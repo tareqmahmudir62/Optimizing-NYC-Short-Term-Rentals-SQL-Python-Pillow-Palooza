{
 "cells": [
  {
   "cell_type": "markdown",
   "id": "c2892ba6",
   "metadata": {},
   "source": [
    "## Project Background"
   ]
  },
  {
   "cell_type": "markdown",
   "id": "95ca4a80",
   "metadata": {},
   "source": [
    "![NYC](NYC.jpg)\n",
    "### Introduction\n",
    "Welcome to New York City, one of the most-visited cities in the world. There are many Airbnb listings in New York City to meet the high demand for temporary lodging for travelers, which can be anywhere between a few nights to many months. In this notebook, we will take a closer look at the New York Airbnb market by combining data from multiple file types like .csv, .tsv, and .xlsx.\n",
    "\n",
    "Recall that CSV, TSV, and Excel files are three common formats for storing data. Three files containing data on 2019 Airbnb listings are available to you:\n",
    "\n",
    "### data/airbnb_price.csv\n",
    "\n",
    "listing_id: unique identifier of listing\n",
    "price: nightly listing price in USD\n",
    "nbhood_full: name of borough and neighborhood where listing is located\n",
    "\n",
    "### data/airbnb_room_type.xlsx \n",
    "This is an Excel file containing data on Airbnb listing descriptions and room types.\n",
    "\n",
    "listing_id: unique identifier of listing\n",
    "description: listing description\n",
    "room_type: Airbnb has three types of rooms: shared rooms, private rooms, and entire homes/apartments\n",
    "\n",
    "### data/airbnb_last_review.tsv\n",
    "This is a TSV file containing data on Airbnb host names and review dates.\n",
    "\n",
    "listing_id: unique identifier of listing\n",
    "host_name: name of listing host\n",
    "last_review: date when the listing was last reviewed\n",
    "\n",
    "#### Our goals are to convert untidy data into appropriate formats to analyze, and answer key questions including:\n",
    "\n",
    "What is the average price, per night, of an Airbnb listing in NYC?\n",
    "How does the average price of an Airbnb listing, per month, compare to the private rental market?\n",
    "How many adverts are for private rooms?\n",
    "How do Airbnb listing prices compare across the five NYC boroughs?"
   ]
  },
  {
   "cell_type": "markdown",
   "id": "2b9911b9",
   "metadata": {},
   "source": [
    "### Importing all the necessary libraries"
   ]
  },
  {
   "cell_type": "code",
   "execution_count": 157,
   "id": "71073953",
   "metadata": {},
   "outputs": [],
   "source": [
    "import pandas as pd\n",
    "import numpy as np\n",
    "import matplotlib.pyplot as plt\n",
    "import math as m\n",
    "import sqlalchemy as sql\n",
    "import datetime as dt\n",
    "from fuzzywuzzy import process as p"
   ]
  },
  {
   "cell_type": "markdown",
   "id": "ac2cbedd",
   "metadata": {},
   "source": [
    "### converting the datsets into pandas dataframe"
   ]
  },
  {
   "cell_type": "code",
   "execution_count": 158,
   "id": "eb73ef68",
   "metadata": {},
   "outputs": [],
   "source": [
    "reviews= pd.read_csv('reviews.tsv', sep='\\t')\n",
    "price= pd.read_csv('prices.csv')\n",
    "room_types= pd.ExcelFile('room_types.xlsx').parse(0)"
   ]
  },
  {
   "cell_type": "markdown",
   "id": "3c08f77c",
   "metadata": {},
   "source": [
    "### Work to do to clean the datasets:\n",
    " "
   ]
  },
  {
   "cell_type": "markdown",
   "id": "ff629d77",
   "metadata": {},
   "source": [
    "#### Exploring the 'reviews' datasets and what to clean there\n",
    "1. 'host_name' column has Null/missing entries, this needs to be corrected\n",
    "2. the date format in the last_review column should be corrected\n",
    "3. the datatype of the 'last_review' column should be in datetime format"
   ]
  },
  {
   "cell_type": "code",
   "execution_count": 159,
   "id": "32698b9b",
   "metadata": {
    "scrolled": true
   },
   "outputs": [
    {
     "name": "stdout",
     "output_type": "stream",
     "text": [
      "<class 'pandas.core.frame.DataFrame'>\n",
      "RangeIndex: 25209 entries, 0 to 25208\n",
      "Data columns (total 3 columns):\n",
      " #   Column       Non-Null Count  Dtype \n",
      "---  ------       --------------  ----- \n",
      " 0   listing_id   25209 non-null  int64 \n",
      " 1   host_name    25201 non-null  object\n",
      " 2   last_review  25209 non-null  object\n",
      "dtypes: int64(1), object(2)\n",
      "memory usage: 591.0+ KB\n",
      "None\n"
     ]
    }
   ],
   "source": [
    "print(reviews.info())"
   ]
  },
  {
   "cell_type": "markdown",
   "id": "0705e8f6",
   "metadata": {},
   "source": [
    "#### Cleaning the 'reviews' dataset"
   ]
  },
  {
   "cell_type": "code",
   "execution_count": 160,
   "id": "add420e5",
   "metadata": {},
   "outputs": [],
   "source": [
    "### filling the missing host names with 'No name' value\n",
    "reviews['host_name']= reviews.host_name.fillna('No name')\n",
    "\n",
    "### changing the date format of the last_review column\n",
    "reviews['last_review']= pd.to_datetime(reviews.last_review)"
   ]
  },
  {
   "cell_type": "markdown",
   "id": "35acc18f",
   "metadata": {},
   "source": [
    "#### Exploring the 'price' datasets and what to clean there\n",
    "1. Values in the 'price' column is listed string, it should be listed as float\n",
    "2. price column has an extras 'dollar' written after the string valuse, this extra 'dollar' word should be removed\n",
    "3. Have a look if the 'price' column's value has any outlier, but it will only be possible to checka fter converting the datatype and removing the 'dollar' word\n"
   ]
  },
  {
   "cell_type": "code",
   "execution_count": 161,
   "id": "a360a7e8",
   "metadata": {
    "scrolled": true
   },
   "outputs": [
    {
     "name": "stdout",
     "output_type": "stream",
     "text": [
      "<class 'pandas.core.frame.DataFrame'>\n",
      "RangeIndex: 25209 entries, 0 to 25208\n",
      "Data columns (total 3 columns):\n",
      " #   Column       Non-Null Count  Dtype \n",
      "---  ------       --------------  ----- \n",
      " 0   listing_id   25209 non-null  int64 \n",
      " 1   price        25209 non-null  object\n",
      " 2   nbhood_full  25209 non-null  object\n",
      "dtypes: int64(1), object(2)\n",
      "memory usage: 591.0+ KB\n",
      "None\n"
     ]
    }
   ],
   "source": [
    "print(price.info())\n"
   ]
  },
  {
   "cell_type": "markdown",
   "id": "c299552b",
   "metadata": {},
   "source": [
    "#### Cleaning the 'price' dataset"
   ]
  },
  {
   "cell_type": "code",
   "execution_count": 162,
   "id": "5616e364",
   "metadata": {},
   "outputs": [],
   "source": [
    "###removing the 'dollar' string from the price column \n",
    "price['price']=price.price.str.strip('dollars')"
   ]
  },
  {
   "cell_type": "code",
   "execution_count": 163,
   "id": "842e7c73",
   "metadata": {},
   "outputs": [
    {
     "name": "stdout",
     "output_type": "stream",
     "text": [
      "<class 'pandas.core.frame.DataFrame'>\n",
      "RangeIndex: 25209 entries, 0 to 25208\n",
      "Data columns (total 3 columns):\n",
      " #   Column       Non-Null Count  Dtype  \n",
      "---  ------       --------------  -----  \n",
      " 0   listing_id   25209 non-null  int64  \n",
      " 1   price        25209 non-null  float64\n",
      " 2   nbhood_full  25209 non-null  object \n",
      "dtypes: float64(1), int64(1), object(1)\n",
      "memory usage: 591.0+ KB\n"
     ]
    }
   ],
   "source": [
    "### changing the values in the price column from string to float\n",
    "price['price']=price.price.astype('float')\n",
    "price.info()"
   ]
  },
  {
   "cell_type": "markdown",
   "id": "90c67411",
   "metadata": {},
   "source": [
    "#### Exploring the 'room_types' datasets and what to clean there\n",
    "1. 'description' column has some null/missing valuse, it should be corrected\n",
    "2. 'room_type' column should be in 'category' type and it should have 3 categories. The formatting of the spelling or the word formatting in the values of the column should be in the same same format so that we have only three categories. "
   ]
  },
  {
   "cell_type": "code",
   "execution_count": 164,
   "id": "1c617998",
   "metadata": {},
   "outputs": [
    {
     "name": "stdout",
     "output_type": "stream",
     "text": [
      "<class 'pandas.core.frame.DataFrame'>\n",
      "RangeIndex: 25209 entries, 0 to 25208\n",
      "Data columns (total 3 columns):\n",
      " #   Column       Non-Null Count  Dtype \n",
      "---  ------       --------------  ----- \n",
      " 0   listing_id   25209 non-null  int64 \n",
      " 1   description  25199 non-null  object\n",
      " 2   room_type    25209 non-null  object\n",
      "dtypes: int64(1), object(2)\n",
      "memory usage: 591.0+ KB\n",
      "None\n"
     ]
    }
   ],
   "source": [
    "print(room_types.info())"
   ]
  },
  {
   "cell_type": "code",
   "execution_count": 165,
   "id": "e2d50e16",
   "metadata": {},
   "outputs": [],
   "source": [
    "### Filling the missing description cells with 'No description provided' value\n",
    "room_types= room_types.fillna({'description':'No description provided'})\n",
    "\n",
    "###  changing the room_tyoe into category and capitalizing each category to drop categories into 3 categories\n",
    "room_types['room_type']=room_types['room_type'].astype('category')\n",
    "room_types['room_type']=room_types['room_type'].str.capitalize()\n"
   ]
  },
  {
   "cell_type": "markdown",
   "id": "562f9738",
   "metadata": {},
   "source": [
    "#### Merging three table on 'listing_id'"
   ]
  },
  {
   "cell_type": "code",
   "execution_count": 166,
   "id": "7c6ecc91",
   "metadata": {
    "scrolled": false
   },
   "outputs": [],
   "source": [
    "df_merged= pd.merge(price,reviews,on='listing_id')\n",
    "df= pd.merge(df_merged,room_types,on='listing_id')"
   ]
  },
  {
   "cell_type": "markdown",
   "id": "cfee3ca3",
   "metadata": {},
   "source": [
    "#### Removing the free_listings from the merged dataset"
   ]
  },
  {
   "cell_type": "code",
   "execution_count": 167,
   "id": "7661e1ec",
   "metadata": {},
   "outputs": [
    {
     "name": "stdout",
     "output_type": "stream",
     "text": [
      "141.82\n",
      "1213.61\n",
      "         room_type   price\n",
      "0  Entire home/apt  197.17\n",
      "1     Private room   81.67\n",
      "2      Shared room   53.65\n"
     ]
    }
   ],
   "source": [
    "### finding the free listed lsitings\n",
    "free_listing= df['price']==0\n",
    "df=df.loc[~free_listing]\n",
    "\n",
    "#### Calculating average price\n",
    "average_price= round(df.price.mean(),2)\n",
    "print(average_price)\n",
    "\n",
    "#### calculating average price per month\n",
    "df['avg_price']=df[[\"price\"]] * 365 / 12\n",
    "average_price_per_month= round(df[\"avg_price\"].mean(), 2)\n",
    "\n",
    "#### calculating the difference\n",
    "difference=  round((average_price_per_month - 3100),2)\n",
    "print(difference)\n",
    "\n",
    "### calculating average price per room type\n",
    "avg_price_room_type=round(df.groupby(['room_type'])['price'].mean().reset_index(),2)\n",
    "print(avg_price_room_type)\n"
   ]
  },
  {
   "cell_type": "code",
   "execution_count": 168,
   "id": "8667a088",
   "metadata": {},
   "outputs": [
    {
     "name": "stdout",
     "output_type": "stream",
     "text": [
      "141.82\n",
      "  month   price\n",
      "0    01  140.56\n",
      "1    02  145.61\n",
      "2    03  136.24\n",
      "3    04  143.21\n",
      "4    05  139.60\n",
      "5    06  141.67\n",
      "6    07  144.49\n",
      "         room_type   price\n",
      "0  Entire home/apt  197.17\n",
      "1     Private room   81.67\n",
      "2      Shared room   53.65\n"
     ]
    }
   ],
   "source": [
    "\n",
    "#### Calculating average price\n",
    "average_price= round(df.price.mean(),2)\n",
    "print(average_price)\n",
    "\n",
    "#### calculating average price per month\n",
    "df['month']= df.last_review.dt.strftime('%m')\n",
    "avg_price_month= round(df.groupby(['month'])['price'].mean().reset_index(),2)\n",
    "print(avg_price_month)\n",
    "\n",
    "### calculating average price per room type\n",
    "avg_price_room_type=round(df.groupby(['room_type'])['price'].mean().reset_index(),2)\n",
    "print(avg_price_room_type)\n"
   ]
  },
  {
   "cell_type": "markdown",
   "id": "402040fb",
   "metadata": {},
   "source": [
    "#### Calculating room frequencies"
   ]
  },
  {
   "cell_type": "code",
   "execution_count": 176,
   "id": "5a02dd73",
   "metadata": {},
   "outputs": [
    {
     "name": "stdout",
     "output_type": "stream",
     "text": [
      "Entire home/apt    13266\n",
      "Private room       11351\n",
      "Shared room          585\n",
      "Name: room_type, dtype: int64\n"
     ]
    }
   ],
   "source": [
    "#### Number of rooms per room type\n",
    "room_frequencies= df.room_type.value_counts()\n",
    "print(room_frequencies)"
   ]
  },
  {
   "cell_type": "markdown",
   "id": "18c71eaf",
   "metadata": {},
   "source": [
    "#### Calculating listing prices by NYC"
   ]
  },
  {
   "cell_type": "code",
   "execution_count": 170,
   "id": "2e456060",
   "metadata": {},
   "outputs": [
    {
     "name": "stdout",
     "output_type": "stream",
     "text": [
      "nbhood_full\n",
      "Brooklyn         121.974665\n",
      "Manhattan        184.000678\n",
      "Queens            92.813947\n",
      "Staten Island     86.044944\n",
      "The Bronx         79.241033\n",
      "Name: price, dtype: float64\n"
     ]
    }
   ],
   "source": [
    "#### Converting all the values of nbhood_full column into 5 Boroughs of NYC\n",
    "boroughs_nyc= pd.DataFrame({\"boroughs\": [\"Brooklyn\", \"Manhattan\", \"Queens\", \"Staten Island\", \"The Bronx\"]})\n",
    "\n",
    "for state in boroughs_nyc['boroughs']:\n",
    "    matches_score = p.extract(state, df['nbhood_full'], limit=df.shape[0])\n",
    "    for match in matches_score:\n",
    "        if match[1] >= 80:\n",
    "            df.loc[df['nbhood_full'] == match[0], 'nbhood_full'] = state\n",
    "            \n",
    "#### Calculating the average price of each borough of NYC\n",
    "avg_price_borough= df.groupby('nbhood_full')['price'].mean()\n",
    "print(avg_price_borough)"
   ]
  },
  {
   "cell_type": "markdown",
   "id": "9d63d78c",
   "metadata": {},
   "source": [
    "### calculating the price range by borough"
   ]
  },
  {
   "cell_type": "code",
   "execution_count": 171,
   "id": "98bed25a",
   "metadata": {
    "scrolled": true
   },
   "outputs": [
    {
     "name": "stdout",
     "output_type": "stream",
     "text": [
      "boroughs\n",
      "Brooklyn         10460\n",
      "Manhattan        10322\n",
      "Queens            3456\n",
      "Staten Island      267\n",
      "The Bronx          697\n",
      "Name: price_range_labels, dtype: int64\n"
     ]
    }
   ],
   "source": [
    "#### renaming the name of the column nbhood_full into boroughs\n",
    "df= df.rename(columns={'nbhood_full':'boroughs','month':'reviewed_month'})\n",
    "df.head()\n",
    "\n",
    "### Calculatimng the price range by boroughs\n",
    "ranges= [0,69,175,350,np.inf]\n",
    "labels=['budget','average','expensive','extravagant']\n",
    "df['price_range_labels']=pd.cut(df['price'], bins= ranges, labels= labels)\n",
    "price_range_borough= df.groupby('boroughs')['price_range_labels'].count()\n",
    "print(price_range_borough)\n",
    "\n",
    "\n",
    "\n"
   ]
  },
  {
   "cell_type": "markdown",
   "id": "109756ba",
   "metadata": {},
   "source": [
    "### The nuber of listings in the bronx borough based on price range"
   ]
  },
  {
   "cell_type": "code",
   "execution_count": 172,
   "id": "fdfbd802",
   "metadata": {
    "scrolled": true
   },
   "outputs": [
    {
     "data": {
      "text/plain": [
       "budget         381\n",
       "average        286\n",
       "expensive       25\n",
       "extravagant      5\n",
       "Name: price_range_labels, dtype: int64"
      ]
     },
     "execution_count": 172,
     "metadata": {},
     "output_type": "execute_result"
    }
   ],
   "source": [
    "df.loc[df.boroughs=='The Bronx']['price_range_labels'].value_counts()"
   ]
  },
  {
   "cell_type": "code",
   "execution_count": 179,
   "id": "573e519f",
   "metadata": {
    "scrolled": true
   },
   "outputs": [
    {
     "name": "stdout",
     "output_type": "stream",
     "text": [
      "boroughs       price_range_labels\n",
      "Brooklyn       budget                3201\n",
      "               average               5534\n",
      "               expensive             1466\n",
      "               extravagant            259\n",
      "Manhattan      budget                1150\n",
      "               average               5289\n",
      "               expensive             3073\n",
      "               extravagant            810\n",
      "Queens         budget                1632\n",
      "               average               1505\n",
      "               expensive              291\n",
      "               extravagant             28\n",
      "Staten Island  budget                 124\n",
      "               average                123\n",
      "               expensive               20\n",
      "               extravagant              0\n",
      "The Bronx      budget                 381\n",
      "               average                286\n",
      "               expensive               25\n",
      "               extravagant              5\n",
      "Name: price_range_labels, dtype: int64\n"
     ]
    }
   ],
   "source": [
    "### The nuber of listings in each borough based on price range\n",
    "listing_frequencies_borough= df.groupby(['boroughs','price_range_labels'])['price_range_labels'].count()\n",
    "print(listing_frequencies_borough)"
   ]
  },
  {
   "cell_type": "code",
   "execution_count": 174,
   "id": "6ccbe52c",
   "metadata": {},
   "outputs": [],
   "source": [
    "# Create first_reviewed, the earliest review date\n",
    "first_reviewed = df[\"last_review\"].dt.date.min()\n",
    "\n",
    "# Create last_reviewed, the most recent review date\n",
    "last_reviewed = reviews[\"last_review\"].dt.date.max()"
   ]
  },
  {
   "cell_type": "markdown",
   "id": "240f504e",
   "metadata": {},
   "source": [
    "#### solutions from the cleaned dataset"
   ]
  },
  {
   "cell_type": "code",
   "execution_count": 182,
   "id": "04be049d",
   "metadata": {},
   "outputs": [
    {
     "name": "stdout",
     "output_type": "stream",
     "text": [
      "average price: 141.82\n",
      "average price per month:  4313.61\n",
      "difference is:  1213.61\n",
      "Room frequencies:  Entire home/apt    13266\n",
      "Private room       11351\n",
      "Shared room          585\n",
      "Name: room_type, dtype: int64\n",
      "first reviewed on:  2019-01-01\n",
      "Last reviewed on:  2019-01-01\n",
      "Frequencies of Listing per borough:  boroughs       price_range_labels\n",
      "Brooklyn       budget                3201\n",
      "               average               5534\n",
      "               expensive             1466\n",
      "               extravagant            259\n",
      "Manhattan      budget                1150\n",
      "               average               5289\n",
      "               expensive             3073\n",
      "               extravagant            810\n",
      "Queens         budget                1632\n",
      "               average               1505\n",
      "               expensive              291\n",
      "               extravagant             28\n",
      "Staten Island  budget                 124\n",
      "               average                123\n",
      "               expensive               20\n",
      "               extravagant              0\n",
      "The Bronx      budget                 381\n",
      "               average                286\n",
      "               expensive               25\n",
      "               extravagant              5\n",
      "Name: price_range_labels, dtype: int64\n"
     ]
    }
   ],
   "source": [
    "print('average price:', average_price)\n",
    "print('average price per month: ', average_price_per_month)\n",
    "print('difference is: ', difference)\n",
    "print('Room frequencies: ',room_frequencies)\n",
    "print('first reviewed on: ', first_reviewed)\n",
    "print('Last reviewed on: ', first_reviewed)\n",
    "print('Frequencies of Listing per borough: ',listing_frequencies_borough)"
   ]
  },
  {
   "cell_type": "markdown",
   "id": "ec6985fa",
   "metadata": {},
   "source": [
    "#### Converting the cleaned dataset into a .csv file"
   ]
  },
  {
   "cell_type": "code",
   "execution_count": 183,
   "id": "8fd6444e",
   "metadata": {},
   "outputs": [],
   "source": [
    "df.to_csv('dataset.csv')\n"
   ]
  },
  {
   "cell_type": "code",
   "execution_count": null,
   "id": "7a29d364",
   "metadata": {},
   "outputs": [],
   "source": []
  }
 ],
 "metadata": {
  "kernelspec": {
   "display_name": "Python 3 (ipykernel)",
   "language": "python",
   "name": "python3"
  },
  "language_info": {
   "codemirror_mode": {
    "name": "ipython",
    "version": 3
   },
   "file_extension": ".py",
   "mimetype": "text/x-python",
   "name": "python",
   "nbconvert_exporter": "python",
   "pygments_lexer": "ipython3",
   "version": "3.9.7"
  }
 },
 "nbformat": 4,
 "nbformat_minor": 5
}
